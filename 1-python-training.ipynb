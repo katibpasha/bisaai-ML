{
 "cells": [
  {
   "cell_type": "code",
   "execution_count": 20,
   "id": "a21ccc37",
   "metadata": {},
   "outputs": [],
   "source": [
    "nama = \"Titan Bagus Br.\"\n",
    "nim  = \"19.12.1158\"\n",
    "usia = 20"
   ]
  },
  {
   "cell_type": "code",
   "execution_count": 21,
   "id": "23f781e1",
   "metadata": {},
   "outputs": [
    {
     "name": "stdout",
     "output_type": "stream",
     "text": [
      "Hai, nama saya Titan Bagus Br.\n",
      "Saya berumur 20\n",
      "dan NIM saya adalah 19.12.1158\n"
     ]
    }
   ],
   "source": [
    "print('Hai, nama saya '+nama)\n",
    "print('Saya berumur',usia)\n",
    "print('dan NIM saya adalah '+nim)"
   ]
  },
  {
   "cell_type": "code",
   "execution_count": 22,
   "id": "9676a08d",
   "metadata": {},
   "outputs": [
    {
     "name": "stdout",
     "output_type": "stream",
     "text": [
      "<class 'str'>\n",
      "<class 'str'>\n",
      "<class 'int'>\n"
     ]
    }
   ],
   "source": [
    "#data type\n",
    "print(type(nama))\n",
    "print(type(nim))\n",
    "print(type(usia))"
   ]
  },
  {
   "cell_type": "code",
   "execution_count": 23,
   "id": "e8311ce0",
   "metadata": {},
   "outputs": [
    {
     "name": "stdout",
     "output_type": "stream",
     "text": [
      "7\n"
     ]
    }
   ],
   "source": [
    "x = 3\n",
    "y = 4\n",
    "\n",
    "print(x|y)"
   ]
  },
  {
   "cell_type": "code",
   "execution_count": null,
   "id": "6b048f92",
   "metadata": {},
   "outputs": [],
   "source": []
  }
 ],
 "metadata": {
  "kernelspec": {
   "display_name": "Python 3 (ipykernel)",
   "language": "python",
   "name": "python3"
  },
  "language_info": {
   "codemirror_mode": {
    "name": "ipython",
    "version": 3
   },
   "file_extension": ".py",
   "mimetype": "text/x-python",
   "name": "python",
   "nbconvert_exporter": "python",
   "pygments_lexer": "ipython3",
   "version": "3.9.7"
  }
 },
 "nbformat": 4,
 "nbformat_minor": 5
}
